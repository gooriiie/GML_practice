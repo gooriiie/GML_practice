{
 "cells": [
  {
   "cell_type": "code",
   "execution_count": 34,
   "metadata": {},
   "outputs": [],
   "source": [
    "import dgl\n",
    "import torch\n",
    "import torch.nn as nn\n",
    "import torch.nn.functional as F\n",
    "import itertools\n",
    "import pandas as pd"
   ]
  },
  {
   "cell_type": "code",
   "execution_count": 35,
   "metadata": {},
   "outputs": [],
   "source": [
    "def load_zachery():\n",
    "    nodes_data = pd.read_csv('https://raw.githubusercontent.com/myeonghak/DGL-tutorial/master/data/nodes.csv')\n",
    "    edges_data = pd.read_csv('https://raw.githubusercontent.com/myeonghak/DGL-tutorial/master/data/edges.csv')\n",
    "    src = edges_data['Src'].to_numpy()\n",
    "    dst = edges_data['Dst'].to_numpy()\n",
    "    g = dgl.graph((src, dst))\n",
    "    club = nodes_data['Club'].to_list()\n",
    "    # Convert to categorical integer values with 0 for 'Mr. Hi', 1 for 'Officer'.\n",
    "    club = torch.tensor([c == 'Officer' for c in club]).long()\n",
    "    # We can also convert it to one-hot encoding.\n",
    "    club_onehot = F.one_hot(club)\n",
    "    g.ndata.update({'club' : club, 'club_onehot' : club_onehot})\n",
    "    return g"
   ]
  },
  {
   "cell_type": "code",
   "execution_count": 36,
   "metadata": {},
   "outputs": [
    {
     "name": "stdout",
     "output_type": "stream",
     "text": [
      "Graph(num_nodes=34, num_edges=156,\n",
      "      ndata_schemes={'club': Scheme(shape=(), dtype=torch.int64), 'club_onehot': Scheme(shape=(2,), dtype=torch.int64)}\n",
      "      edata_schemes={})\n"
     ]
    }
   ],
   "source": [
    "g = load_zachery()\n",
    "print(g)"
   ]
  },
  {
   "cell_type": "code",
   "execution_count": 37,
   "metadata": {},
   "outputs": [],
   "source": [
    "node_embed = nn.Embedding(g.number_of_nodes(), 5)\n",
    "inputs = node_embed.weight"
   ]
  },
  {
   "cell_type": "code",
   "execution_count": 38,
   "metadata": {},
   "outputs": [
    {
     "name": "stdout",
     "output_type": "stream",
     "text": [
      "Parameter containing:\n",
      "tensor([[ 0.1314, -0.2744,  0.1272,  0.1343,  0.1711],\n",
      "        [ 0.0184,  0.3910, -0.1340, -0.1818, -0.3039],\n",
      "        [ 0.3126,  0.1481, -0.3868, -0.1086,  0.2797],\n",
      "        [ 0.1772,  0.2551,  0.0030, -0.2449,  0.1212],\n",
      "        [ 0.0028,  0.3800,  0.3572,  0.0536, -0.1536],\n",
      "        [-0.3084, -0.1255,  0.3041,  0.1728, -0.3340],\n",
      "        [ 0.3575, -0.3137,  0.3204,  0.3210, -0.0653],\n",
      "        [ 0.0316, -0.1625,  0.1875, -0.2976, -0.2914],\n",
      "        [ 0.0878, -0.1802,  0.1356, -0.2027, -0.3825],\n",
      "        [ 0.0561, -0.0171, -0.1411, -0.3542, -0.3667],\n",
      "        [-0.1165, -0.1819, -0.1628, -0.0866, -0.0139],\n",
      "        [ 0.1730,  0.1565,  0.1033,  0.2965,  0.0066],\n",
      "        [ 0.3118,  0.0134,  0.0445,  0.1191, -0.1803],\n",
      "        [ 0.1952,  0.0483,  0.3513, -0.3461,  0.2103],\n",
      "        [ 0.0306,  0.0841, -0.0919, -0.1195,  0.0420],\n",
      "        [-0.0469, -0.0126,  0.2670, -0.3822,  0.3529],\n",
      "        [-0.3054,  0.0419, -0.3065,  0.0035,  0.0474],\n",
      "        [-0.2328,  0.3587,  0.2793,  0.1477, -0.0919],\n",
      "        [-0.2244, -0.1828,  0.3652, -0.3780,  0.3418],\n",
      "        [ 0.0079, -0.0328,  0.1552, -0.3880,  0.2837],\n",
      "        [-0.2267,  0.0332, -0.2533,  0.2609, -0.3131],\n",
      "        [-0.3223, -0.0055, -0.2028, -0.0051,  0.2925],\n",
      "        [-0.1497, -0.0497, -0.1371,  0.3010, -0.0911],\n",
      "        [-0.0410, -0.2541, -0.0746,  0.0582, -0.0195],\n",
      "        [-0.1417, -0.1575,  0.1856, -0.1387, -0.1849],\n",
      "        [-0.1273, -0.1150, -0.2631,  0.2735, -0.0524],\n",
      "        [ 0.2610,  0.3277,  0.1074,  0.1075,  0.0047],\n",
      "        [ 0.3291,  0.2727,  0.3422,  0.2716, -0.3670],\n",
      "        [ 0.0180,  0.0897,  0.0442, -0.0398, -0.1712],\n",
      "        [ 0.2474, -0.2646,  0.0537,  0.1531, -0.2696],\n",
      "        [ 0.1154,  0.1389, -0.0639, -0.2022,  0.1844],\n",
      "        [ 0.2752,  0.3516, -0.2624,  0.2117, -0.3407],\n",
      "        [ 0.1405,  0.1396, -0.2281, -0.3668,  0.2101],\n",
      "        [-0.2171,  0.0838, -0.0765,  0.2877, -0.0534]], requires_grad=True)\n"
     ]
    }
   ],
   "source": [
    "nn.init.xavier_uniform_(inputs)\n",
    "print(inputs)"
   ]
  },
  {
   "cell_type": "code",
   "execution_count": 39,
   "metadata": {},
   "outputs": [
    {
     "name": "stdout",
     "output_type": "stream",
     "text": [
      "Labels :  tensor([0, 1])\n"
     ]
    }
   ],
   "source": [
    "labels = g.ndata['club']\n",
    "labeled_nodes = [0, 33]\n",
    "print('Labels : ', labels[labeled_nodes])"
   ]
  },
  {
   "cell_type": "code",
   "execution_count": 40,
   "metadata": {},
   "outputs": [],
   "source": [
    "from dgl.nn import SAGEConv\n",
    "\n",
    "class GraphSAGE(nn.Module):\n",
    "    def __init__(self, in_feats, h_feats, num_classes):\n",
    "        super(GraphSAGE, self).__init__()\n",
    "        self.conv1 = SAGEConv(in_feats, h_feats, 'mean')\n",
    "        self.conv2 = SAGEConv(h_feats, num_classes, 'mean')\n",
    "\n",
    "    def forward(self, g, in_feat):\n",
    "        h = self.conv1(g, in_feat)\n",
    "        h = F.relu(h)\n",
    "        h = self.conv2(g, h)\n",
    "        return h\n",
    "    \n",
    "# input layer : 5\n",
    "# hidden layer : 16\n",
    "# output layer : 2\n",
    "net  = GraphSAGE(5, 16, 2)\n"
   ]
  },
  {
   "cell_type": "code",
   "execution_count": 41,
   "metadata": {},
   "outputs": [
    {
     "name": "stdout",
     "output_type": "stream",
     "text": [
      "In peoch 0, loss: 0.6848267316818237\n",
      "In peoch 5, loss: 0.32975083589553833\n",
      "In peoch 10, loss: 0.14416587352752686\n",
      "In peoch 15, loss: 0.05155583471059799\n",
      "In peoch 20, loss: 0.018210873007774353\n",
      "In peoch 25, loss: 0.007228659465909004\n",
      "In peoch 30, loss: 0.0033891310449689627\n",
      "In peoch 35, loss: 0.0019133933819830418\n",
      "In peoch 40, loss: 0.0012545003555715084\n",
      "In peoch 45, loss: 0.0009241712396033108\n",
      "In peoch 50, loss: 0.0007409420795738697\n",
      "In peoch 55, loss: 0.0006300440873019397\n"
     ]
    },
    {
     "name": "stderr",
     "output_type": "stream",
     "text": [
      "c:\\Users\\di\\anaconda3\\envs\\venv_gnn\\lib\\site-packages\\torch\\amp\\autocast_mode.py:198: UserWarning: User provided device_type of 'cuda', but CUDA is not available. Disabling\n",
      "  warnings.warn('User provided device_type of \\'cuda\\', but CUDA is not available. Disabling')\n"
     ]
    },
    {
     "name": "stdout",
     "output_type": "stream",
     "text": [
      "In peoch 60, loss: 0.0005574937677010894\n",
      "In peoch 65, loss: 0.0005066810408607125\n",
      "In peoch 70, loss: 0.0004686736792791635\n",
      "In peoch 75, loss: 0.00043846911285072565\n",
      "In peoch 80, loss: 0.0004134467162657529\n",
      "In peoch 85, loss: 0.0003917600552085787\n",
      "In peoch 90, loss: 0.0003725156420841813\n",
      "In peoch 95, loss: 0.00035499868681654334\n"
     ]
    }
   ],
   "source": [
    "optimizer = torch.optim.Adam(itertools.chain(net.parameters(), node_embed.parameters()), lr=0.01)\n",
    "\n",
    "all_logits = []\n",
    "for e in range(100):\n",
    "    logits = net(g, inputs)\n",
    "\n",
    "    logp = F.log_softmax(logits, 1)\n",
    "    loss = F.nll_loss(logp[labeled_nodes], labels[labeled_nodes])\n",
    "\n",
    "    optimizer.zero_grad()\n",
    "    loss.backward()\n",
    "    optimizer.step()\n",
    "    all_logits.append(logits.detach())\n",
    "\n",
    "    if e % 5 == 0: \n",
    "        print('In peoch {}, loss: {}'.format(e, loss))"
   ]
  },
  {
   "cell_type": "code",
   "execution_count": 42,
   "metadata": {},
   "outputs": [
    {
     "name": "stdout",
     "output_type": "stream",
     "text": [
      "Accuracy 0.6176470588235294\n"
     ]
    }
   ],
   "source": [
    "pred = torch.argmax(logits, axis=1)\n",
    "print('Accuracy', (pred == labels).sum().item() / len(pred))"
   ]
  },
  {
   "cell_type": "code",
   "execution_count": 43,
   "metadata": {},
   "outputs": [],
   "source": [
    "import matplotlib.pyplot as plt\n",
    "\n",
    "plt.rcParams['figure.figsize'] = (4.0, 3.0)\n",
    "plt.rcParams['image.interpolation'] = 'nearest'\n",
    "plt.rcParams['image.cmap'] = 'gray'\n",
    "plt.rcParams['animation.html'] = 'html5'"
   ]
  },
  {
   "cell_type": "code",
   "execution_count": 44,
   "metadata": {},
   "outputs": [
    {
     "data": {
      "text/plain": [
       "100"
      ]
     },
     "execution_count": 44,
     "metadata": {},
     "output_type": "execute_result"
    }
   ],
   "source": [
    "len(all_logits)"
   ]
  },
  {
   "cell_type": "code",
   "execution_count": 45,
   "metadata": {},
   "outputs": [
    {
     "ename": "RuntimeError",
     "evalue": "Requested MovieWriter (ffmpeg) not available",
     "output_type": "error",
     "traceback": [
      "\u001b[1;31m---------------------------------------------------------------------------\u001b[0m",
      "\u001b[1;31mRuntimeError\u001b[0m                              Traceback (most recent call last)",
      "\u001b[1;32mc:\\Users\\di\\Desktop\\gnn\\gnn.ipynb Cell 12'\u001b[0m in \u001b[0;36m<cell line: 28>\u001b[1;34m()\u001b[0m\n\u001b[0;32m     <a href='vscode-notebook-cell:/c%3A/Users/di/Desktop/gnn/gnn.ipynb#ch0000013?line=24'>25</a>\u001b[0m     nx\u001b[39m.\u001b[39mdraw(nx_G\u001b[39m.\u001b[39mto_undirected(), pos, node_color\u001b[39m=\u001b[39mcolors, with_labels\u001b[39m=\u001b[39m\u001b[39mTrue\u001b[39;00m, node_size\u001b[39m=\u001b[39m\u001b[39m200\u001b[39m)\n\u001b[0;32m     <a href='vscode-notebook-cell:/c%3A/Users/di/Desktop/gnn/gnn.ipynb#ch0000013?line=26'>27</a>\u001b[0m ani \u001b[39m=\u001b[39m animation\u001b[39m.\u001b[39mFuncAnimation(fig, draw, frames\u001b[39m=\u001b[39m\u001b[39mlen\u001b[39m(all_logits), interval\u001b[39m=\u001b[39m\u001b[39m200\u001b[39m)\n\u001b[1;32m---> <a href='vscode-notebook-cell:/c%3A/Users/di/Desktop/gnn/gnn.ipynb#ch0000013?line=27'>28</a>\u001b[0m HTML(ani\u001b[39m.\u001b[39;49mto_html5_video())\n",
      "File \u001b[1;32mc:\\Users\\di\\anaconda3\\envs\\venv_gnn\\lib\\site-packages\\matplotlib\\animation.py:1264\u001b[0m, in \u001b[0;36mAnimation.to_html5_video\u001b[1;34m(self, embed_limit)\u001b[0m\n\u001b[0;32m   1261\u001b[0m path \u001b[39m=\u001b[39m Path(tmpdir, \u001b[39m\"\u001b[39m\u001b[39mtemp.m4v\u001b[39m\u001b[39m\"\u001b[39m)\n\u001b[0;32m   1262\u001b[0m \u001b[39m# We create a writer manually so that we can get the\u001b[39;00m\n\u001b[0;32m   1263\u001b[0m \u001b[39m# appropriate size for the tag\u001b[39;00m\n\u001b[1;32m-> 1264\u001b[0m Writer \u001b[39m=\u001b[39m writers[mpl\u001b[39m.\u001b[39;49mrcParams[\u001b[39m'\u001b[39;49m\u001b[39manimation.writer\u001b[39;49m\u001b[39m'\u001b[39;49m]]\n\u001b[0;32m   1265\u001b[0m writer \u001b[39m=\u001b[39m Writer(codec\u001b[39m=\u001b[39m\u001b[39m'\u001b[39m\u001b[39mh264\u001b[39m\u001b[39m'\u001b[39m,\n\u001b[0;32m   1266\u001b[0m                 bitrate\u001b[39m=\u001b[39mmpl\u001b[39m.\u001b[39mrcParams[\u001b[39m'\u001b[39m\u001b[39manimation.bitrate\u001b[39m\u001b[39m'\u001b[39m],\n\u001b[0;32m   1267\u001b[0m                 fps\u001b[39m=\u001b[39m\u001b[39m1000.\u001b[39m \u001b[39m/\u001b[39m \u001b[39mself\u001b[39m\u001b[39m.\u001b[39m_interval)\n\u001b[0;32m   1268\u001b[0m \u001b[39mself\u001b[39m\u001b[39m.\u001b[39msave(\u001b[39mstr\u001b[39m(path), writer\u001b[39m=\u001b[39mwriter)\n",
      "File \u001b[1;32mc:\\Users\\di\\anaconda3\\envs\\venv_gnn\\lib\\site-packages\\matplotlib\\animation.py:151\u001b[0m, in \u001b[0;36mMovieWriterRegistry.__getitem__\u001b[1;34m(self, name)\u001b[0m\n\u001b[0;32m    149\u001b[0m \u001b[39mif\u001b[39;00m \u001b[39mself\u001b[39m\u001b[39m.\u001b[39mis_available(name):\n\u001b[0;32m    150\u001b[0m     \u001b[39mreturn\u001b[39;00m \u001b[39mself\u001b[39m\u001b[39m.\u001b[39m_registered[name]\n\u001b[1;32m--> 151\u001b[0m \u001b[39mraise\u001b[39;00m \u001b[39mRuntimeError\u001b[39;00m(\u001b[39mf\u001b[39m\u001b[39m\"\u001b[39m\u001b[39mRequested MovieWriter (\u001b[39m\u001b[39m{\u001b[39;00mname\u001b[39m}\u001b[39;00m\u001b[39m) not available\u001b[39m\u001b[39m\"\u001b[39m)\n",
      "\u001b[1;31mRuntimeError\u001b[0m: Requested MovieWriter (ffmpeg) not available"
     ]
    },
    {
     "data": {
      "image/png": "[encoded data removed]",
      "text/plain": [
       "<Figure size 600x450 with 1 Axes>"
      ]
     },
     "metadata": {
      "needs_background": "light"
     },
     "output_type": "display_data"
    }
   ],
   "source": [
    "import networkx as nx\n",
    "import numpy as np\n",
    "import matplotlib.animation as animation\n",
    "from IPython.display import HTML\n",
    "\n",
    "fig = plt.figure(dpi=150)\n",
    "fig.clf()\n",
    "ax = fig.subplots()\n",
    "nx_G = g.to_networkx()\n",
    "\n",
    "def draw(i):\n",
    "    cls1color = '#00FFFF'\n",
    "    cls2color = '#FF00FF'\n",
    "    pos = {}\n",
    "    colors = []\n",
    "    for v in range(34):\n",
    "        pred = all_logits[i].numpy()\n",
    "        pos[v] = pred[v]\n",
    "        cls = labels[v]\n",
    "        colors.append(cls1color if cls else cls2color)\n",
    "    \n",
    "    ax.cla()\n",
    "    ax.axis('off')\n",
    "    ax.set_title('Epoch: %d' % i)\n",
    "    nx.draw(nx_G.to_undirected(), pos, node_color=colors, with_labels=True, node_size=200)\n",
    "\n",
    "ani = animation.FuncAnimation(fig, draw, frames=len(all_logits), interval=200)\n",
    "HTML(ani.to_html5_video())"
   ]
  }
 ],
 "metadata": {
  "kernelspec": {
   "display_name": "Python 3.9.12 ('venv_gnn')",
   "language": "python",
   "name": "python3"
  },
  "language_info": {
   "codemirror_mode": {
    "name": "ipython",
    "version": 3
   },
   "file_extension": ".py",
   "mimetype": "text/x-python",
   "name": "python",
   "nbconvert_exporter": "python",
   "pygments_lexer": "ipython3",
   "version": "3.9.12"
  },
  "orig_nbformat": 4,
  "vscode": {
   "interpreter": {
    "hash": "5bda2e7c1864eec52fbc66237ae3f31391aae09a1aea123b18e8e0a87a7474b3"
   }
  }
 },
 "nbformat": 4,
 "nbformat_minor": 2
}
