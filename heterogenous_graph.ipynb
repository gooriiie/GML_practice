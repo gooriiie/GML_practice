{
 "cells": [
  {
   "cell_type": "code",
   "execution_count": 1,
   "metadata": {},
   "outputs": [
    {
     "name": "stderr",
     "output_type": "stream",
     "text": [
      "Using backend: pytorch\n"
     ]
    }
   ],
   "source": [
    "import dgl\n",
    "import torch"
   ]
  },
  {
   "cell_type": "code",
   "execution_count": 3,
   "metadata": {},
   "outputs": [
    {
     "name": "stdout",
     "output_type": "stream",
     "text": [
      "Graph(num_nodes={'disease': 3, 'drug': 3, 'gene': 4},\n",
      "      num_edges={('drug', 'interacts', 'drug'): 2, ('drug', 'interacts', 'gene'): 2, ('drug', 'treats', 'disease'): 1},\n",
      "      metagraph=[('drug', 'drug', 'interacts'), ('drug', 'gene', 'interacts'), ('drug', 'disease', 'treats')])\n"
     ]
    }
   ],
   "source": [
    "# 노드간의 연결 관계\n",
    "# drug 0 ↔ drug 1 / drug 1 ↔ drug 2\n",
    "# drug 0 ↔ gene 2 / drug 1 ↔ gene 3\n",
    "# drug 1 ↔ disease 2\n",
    "\n",
    "heterograph_data = {\n",
    "    ('drug', 'interacts', 'drug'): (torch.tensor([0,1]), torch.tensor([1,2])),\n",
    "    ('drug', 'interacts', 'gene'): (torch.tensor([0,1]), torch.tensor([2,3])),\n",
    "    ('drug', 'treats', 'disease'): (torch.tensor([1]), torch.tensor([2]))\n",
    "}\n",
    "\n",
    "hetero_g = dgl.heterograph(heterograph_data)\n",
    "print(hetero_g)"
   ]
  },
  {
   "cell_type": "code",
   "execution_count": 4,
   "metadata": {},
   "outputs": [
    {
     "data": {
      "text/plain": [
       "Graph(num_nodes={'drug': 3, 'gene': 4},\n",
       "      num_edges={('drug', 'interacts', 'gene'): 2},\n",
       "      metagraph=[('drug', 'gene', 'interacts')])"
      ]
     },
     "execution_count": 4,
     "metadata": {},
     "output_type": "execute_result"
    }
   ],
   "source": [
    "subg_g = dgl.edge_type_subgraph(hetero_g, [('drug', 'interacts', 'gene')])\n",
    "subg_g"
   ]
  },
  {
   "cell_type": "code",
   "execution_count": 5,
   "metadata": {},
   "outputs": [],
   "source": [
    "subg_g.srcdata['src_random'] = torch.rand(3,3)\n",
    "subg_g.dstdata['dst_random'] = torch.rand(4,2)"
   ]
  },
  {
   "cell_type": "code",
   "execution_count": 6,
   "metadata": {},
   "outputs": [
    {
     "data": {
      "text/plain": [
       "{'src_random': tensor([[0.8471, 0.8977, 0.7102],\n",
       "        [0.8682, 0.5273, 0.8462],\n",
       "        [0.3315, 0.9704, 0.4187]])}"
      ]
     },
     "execution_count": 6,
     "metadata": {},
     "output_type": "execute_result"
    }
   ],
   "source": [
    "subg_g.srcdata"
   ]
  },
  {
   "cell_type": "code",
   "execution_count": 7,
   "metadata": {},
   "outputs": [
    {
     "data": {
      "text/plain": [
       "{'dst_random': tensor([[0.0795, 0.4979],\n",
       "        [0.5841, 0.4852],\n",
       "        [0.5547, 0.6855],\n",
       "        [0.2836, 0.3912]])}"
      ]
     },
     "execution_count": 7,
     "metadata": {},
     "output_type": "execute_result"
    }
   ],
   "source": [
    "subg_g.dstdata"
   ]
  }
 ],
 "metadata": {
  "kernelspec": {
   "display_name": "Python 3.9.12 ('venv_gnn')",
   "language": "python",
   "name": "python3"
  },
  "language_info": {
   "codemirror_mode": {
    "name": "ipython",
    "version": 3
   },
   "file_extension": ".py",
   "mimetype": "text/x-python",
   "name": "python",
   "nbconvert_exporter": "python",
   "pygments_lexer": "ipython3",
   "version": "3.9.12"
  },
  "orig_nbformat": 4,
  "vscode": {
   "interpreter": {
    "hash": "5bda2e7c1864eec52fbc66237ae3f31391aae09a1aea123b18e8e0a87a7474b3"
   }
  }
 },
 "nbformat": 4,
 "nbformat_minor": 2
}
